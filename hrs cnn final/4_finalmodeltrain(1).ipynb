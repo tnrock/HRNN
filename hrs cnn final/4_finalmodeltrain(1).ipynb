{
  "nbformat": 4,
  "nbformat_minor": 0,
  "metadata": {
    "colab": {
      "name": "4_finalmodeltrain.ipynb",
      "version": "0.3.2",
      "provenance": [],
      "toc_visible": true
    },
    "kernelspec": {
      "name": "python3",
      "display_name": "Python 3"
    },
    "accelerator": "GPU"
  },
  "cells": [
    {
      "metadata": {
        "id": "oxjAvib-QD26",
        "colab_type": "code",
        "colab": {}
      },
      "cell_type": "code",
      "source": [
        ""
      ],
      "execution_count": 0,
      "outputs": []
    },
    {
      "metadata": {
        "id": "n3etjR1RNXhd",
        "colab_type": "code",
        "colab": {}
      },
      "cell_type": "code",
      "source": [
        ""
      ],
      "execution_count": 0,
      "outputs": []
    },
    {
      "metadata": {
        "id": "1-PLO2JnNXNF",
        "colab_type": "code",
        "colab": {}
      },
      "cell_type": "code",
      "source": [
        ""
      ],
      "execution_count": 0,
      "outputs": []
    },
    {
      "metadata": {
        "id": "kIP36q9dvJlV",
        "colab_type": "code",
        "outputId": "23438b15-db11-4b6b-837f-5f277e661804",
        "colab": {
          "base_uri": "https://localhost:8080/",
          "height": 55
        }
      },
      "cell_type": "code",
      "source": [
        "from google.colab import drive\n",
        "drive.mount('/content/gdrive')\n"
      ],
      "execution_count": 0,
      "outputs": [
        {
          "output_type": "stream",
          "text": [
            "Drive already mounted at /content/gdrive; to attempt to forcibly remount, call drive.mount(\"/content/gdrive\", force_remount=True).\n"
          ],
          "name": "stdout"
        }
      ]
    },
    {
      "metadata": {
        "id": "UsRw8AV4vHIY",
        "colab_type": "code",
        "outputId": "e1f85381-0a35-44fc-9d79-62a905f209e9",
        "colab": {
          "base_uri": "https://localhost:8080/",
          "height": 35
        }
      },
      "cell_type": "code",
      "source": [
        "!pip install python-mnist\n",
        "import tensorflow as tf\n",
        "import numpy as np\n",
        "from mnist import MNIST\n",
        "\n",
        "mndata = MNIST('data')\n",
        "X_train, y_train = mndata.load('/content/gdrive/My Drive/Colab Notebooks/emnist-balanced-train-images-idx3-ubyte',\n",
        "                               '/content/gdrive/My Drive/Colab Notebooks/emnist-balanced-train-labels-idx1-ubyte')\n",
        "X_test, y_test = mndata.load('/content/gdrive/My Drive/Colab Notebooks/emnist-balanced-test-images-idx3-ubyte',\n",
        "                             '/content/gdrive/My Drive/Colab Notebooks/emnist-balanced-test-labels-idx1-ubyte')\n",
        "X_train = np.array(X_train) / 255.0\n",
        "y_train = np.array(y_train)\n",
        "X_test = np.array(X_test) / 255.0\n",
        "y_test = np.array(y_test)"
      ],
      "execution_count": 0,
      "outputs": [
        {
          "output_type": "stream",
          "text": [
            "Requirement already satisfied: python-mnist in /usr/local/lib/python3.6/dist-packages (0.6)\n"
          ],
          "name": "stdout"
        }
      ]
    },
    {
      "metadata": {
        "id": "8VZS9U4fvHIo",
        "colab_type": "code",
        "colab": {}
      },
      "cell_type": "code",
      "source": [
        "X_train = X_train.reshape(X_train.shape[0], 28, 28)\n",
        "X_test = X_test.reshape(X_test.shape[0], 28, 28)"
      ],
      "execution_count": 0,
      "outputs": []
    },
    {
      "metadata": {
        "id": "agauJ7phvHIv",
        "colab_type": "code",
        "outputId": "a8555e1c-0ab6-4e91-c1b2-2a25fc1ac09f",
        "colab": {
          "base_uri": "https://localhost:8080/",
          "height": 365
        }
      },
      "cell_type": "code",
      "source": [
        "from matplotlib import pyplot as plt\n",
        "\n",
        "plt.imshow(X_train[0])\n",
        "plt.show"
      ],
      "execution_count": 0,
      "outputs": [
        {
          "output_type": "execute_result",
          "data": {
            "text/plain": [
              "<function matplotlib.pyplot.show>"
            ]
          },
          "metadata": {
            "tags": []
          },
          "execution_count": 4
        },
        {
          "output_type": "display_data",
          "data": {
            "image/png": "[encoded data removed]",
            "text/plain": [
              "<Figure size 576x396 with 1 Axes>"
            ]
          },
          "metadata": {
            "tags": []
          }
        }
      ]
    },
    {
      "metadata": {
        "id": "lW5KHk7jvHI0",
        "colab_type": "code",
        "outputId": "2a262b65-09ef-40bd-9e8d-9f02b50c2455",
        "colab": {
          "base_uri": "https://localhost:8080/",
          "height": 2588
        }
      },
      "cell_type": "code",
      "source": [
        "m = X_train[2]\n",
        "print(m)"
      ],
      "execution_count": 0,
      "outputs": [
        {
          "output_type": "stream",
          "text": [
            "[[0.         0.         0.         0.         0.         0.\n",
            "  0.         0.         0.         0.         0.         0.\n",
            "  0.         0.         0.         0.         0.         0.\n",
            "  0.         0.         0.         0.         0.         0.\n",
            "  0.         0.         0.         0.        ]\n",
            " [0.         0.         0.         0.         0.         0.\n",
            "  0.         0.         0.         0.         0.         0.\n",
            "  0.         0.         0.         0.         0.01568627 0.01568627\n",
            "  0.01176471 0.01176471 0.01176471 0.01568627 0.01568627 0.01568627\n",
            "  0.         0.         0.         0.        ]\n",
            " [0.         0.         0.         0.         0.         0.\n",
            "  0.00784314 0.03529412 0.1254902  0.14509804 0.14509804 0.14509804\n",
            "  0.14509804 0.14509804 0.14509804 0.2        0.44705882 0.49019608\n",
            "  0.37254902 0.40784314 0.37254902 0.49019608 0.49803922 0.44705882\n",
            "  0.17647059 0.01960784 0.         0.        ]\n",
            " [0.         0.         0.         0.         0.01568627 0.08627451\n",
            "  0.32156863 0.54509804 0.8        0.85098039 0.85098039 0.85098039\n",
            "  0.85098039 0.85098039 0.85098039 0.87058824 0.96078431 0.97647059\n",
            "  0.93333333 0.94509804 0.93333333 0.97647059 0.98039216 0.96078431\n",
            "  0.74117647 0.1254902  0.         0.        ]\n",
            " [0.         0.         0.         0.1254902  0.45098039 0.6745098\n",
            "  0.89803922 0.96078431 0.97647059 0.98039216 0.98039216 0.98039216\n",
            "  0.98039216 0.98039216 0.99607843 0.99607843 1.         0.99607843\n",
            "  0.99607843 0.99607843 0.99607843 0.98431373 0.97647059 0.91372549\n",
            "  0.7254902  0.1254902  0.         0.        ]\n",
            " [0.         0.         0.01568627 0.44313725 0.94509804 0.98039216\n",
            "  0.75294118 0.50980392 0.49803922 0.49803922 0.49803922 0.49803922\n",
            "  0.5254902  0.67843137 0.99215686 0.99607843 0.98431373 0.91764706\n",
            "  0.91372549 0.91372549 0.8        0.54901961 0.49019608 0.32156863\n",
            "  0.12941176 0.01960784 0.         0.        ]\n",
            " [0.         0.         0.01568627 0.44313725 0.94509804 0.96862745\n",
            "  0.66666667 0.09803922 0.01568627 0.01568627 0.01960784 0.05882353\n",
            "  0.37254902 0.82745098 0.98431373 0.90980392 0.67058824 0.33333333\n",
            "  0.32156863 0.31372549 0.13333333 0.03529412 0.01568627 0.00784314\n",
            "  0.         0.         0.         0.        ]\n",
            " [0.         0.         0.         0.1254902  0.44313725 0.49803922\n",
            "  0.41960784 0.07058824 0.         0.         0.1254902  0.49803922\n",
            "  0.8627451  0.98039216 0.68627451 0.3254902  0.08627451 0.01176471\n",
            "  0.00784314 0.00784314 0.         0.         0.         0.\n",
            "  0.         0.         0.         0.        ]\n",
            " [0.         0.         0.         0.         0.01568627 0.01568627\n",
            "  0.01176471 0.         0.00392157 0.09019608 0.51372549 0.94901961\n",
            "  0.91372549 0.67058824 0.13333333 0.01176471 0.         0.\n",
            "  0.         0.         0.         0.         0.         0.\n",
            "  0.         0.         0.         0.        ]\n",
            " [0.         0.         0.         0.         0.         0.\n",
            "  0.         0.00392157 0.18431373 0.80784314 0.98039216 0.85490196\n",
            "  0.30980392 0.01568627 0.         0.         0.         0.\n",
            "  0.         0.         0.         0.         0.         0.\n",
            "  0.         0.         0.         0.        ]\n",
            " [0.         0.         0.         0.         0.         0.\n",
            "  0.         0.08627451 0.62352941 0.96862745 0.90980392 0.37254902\n",
            "  0.03137255 0.         0.         0.         0.         0.\n",
            "  0.         0.         0.         0.         0.         0.\n",
            "  0.         0.         0.         0.        ]\n",
            " [0.         0.         0.         0.         0.         0.\n",
            "  0.01176471 0.3254902  0.90980392 0.96862745 0.62352941 0.08627451\n",
            "  0.         0.         0.         0.         0.         0.\n",
            "  0.         0.         0.         0.         0.         0.\n",
            "  0.         0.         0.         0.        ]\n",
            " [0.         0.         0.         0.         0.         0.\n",
            "  0.0627451  0.62352941 0.98039216 0.81568627 0.18431373 0.00392157\n",
            "  0.         0.         0.         0.         0.         0.\n",
            "  0.         0.         0.         0.         0.         0.\n",
            "  0.         0.         0.         0.        ]\n",
            " [0.         0.         0.         0.         0.         0.\n",
            "  0.09803922 0.72156863 0.97647059 0.55686275 0.03921569 0.\n",
            "  0.         0.         0.         0.         0.         0.\n",
            "  0.         0.         0.         0.         0.         0.\n",
            "  0.         0.         0.         0.        ]\n",
            " [0.         0.         0.         0.         0.         0.\n",
            "  0.14117647 0.83921569 0.98823529 0.67843137 0.09019608 0.\n",
            "  0.         0.         0.         0.         0.         0.\n",
            "  0.         0.         0.         0.         0.         0.\n",
            "  0.         0.         0.         0.        ]\n",
            " [0.         0.         0.         0.         0.         0.\n",
            "  0.07843137 0.61960784 0.96078431 0.90980392 0.39215686 0.13333333\n",
            "  0.03137255 0.         0.         0.         0.         0.\n",
            "  0.         0.         0.         0.         0.         0.\n",
            "  0.         0.         0.         0.        ]\n",
            " [0.         0.         0.         0.         0.         0.\n",
            "  0.00392157 0.14117647 0.68627451 0.98039216 0.91764706 0.8\n",
            "  0.49803922 0.2        0.08235294 0.01960784 0.00784314 0.\n",
            "  0.         0.         0.         0.         0.         0.\n",
            "  0.         0.         0.         0.        ]\n",
            " [0.         0.         0.         0.         0.         0.\n",
            "  0.         0.01176471 0.30588235 0.80784314 0.96078431 0.99215686\n",
            "  0.96078431 0.87058824 0.6745098  0.49803922 0.32156863 0.08627451\n",
            "  0.00784314 0.         0.         0.         0.         0.\n",
            "  0.         0.         0.         0.        ]\n",
            " [0.         0.         0.         0.         0.         0.\n",
            "  0.         0.         0.02745098 0.18039216 0.49803922 0.79607843\n",
            "  0.87058824 0.96078431 0.98431373 0.97647059 0.90980392 0.66666667\n",
            "  0.2627451  0.01568627 0.         0.         0.         0.\n",
            "  0.         0.         0.         0.        ]\n",
            " [0.         0.         0.         0.         0.         0.\n",
            "  0.         0.         0.         0.         0.         0.01568627\n",
            "  0.03529412 0.13333333 0.45098039 0.6745098  0.8627451  0.96078431\n",
            "  0.91372549 0.62352941 0.18431373 0.02745098 0.         0.\n",
            "  0.         0.         0.         0.        ]\n",
            " [0.         0.         0.         0.         0.         0.\n",
            "  0.         0.         0.         0.         0.         0.\n",
            "  0.         0.         0.01568627 0.08235294 0.19607843 0.50196078\n",
            "  0.8627451  0.96470588 0.80784314 0.30196078 0.00784314 0.\n",
            "  0.         0.         0.         0.        ]\n",
            " [0.         0.         0.         0.         0.         0.\n",
            "  0.         0.         0.         0.         0.         0.\n",
            "  0.         0.         0.         0.         0.         0.03921569\n",
            "  0.37647059 0.91764706 0.97647059 0.49019608 0.01568627 0.\n",
            "  0.         0.         0.         0.        ]\n",
            " [0.         0.         0.         0.         0.         0.\n",
            "  0.         0.         0.         0.         0.         0.\n",
            "  0.         0.         0.         0.         0.         0.\n",
            "  0.16078431 0.85490196 0.97647059 0.49019608 0.01568627 0.\n",
            "  0.         0.         0.         0.        ]\n",
            " [0.         0.         0.         0.         0.         0.\n",
            "  0.         0.         0.         0.         0.         0.\n",
            "  0.         0.         0.         0.         0.         0.01568627\n",
            "  0.32941176 0.90196078 0.85490196 0.30196078 0.00784314 0.\n",
            "  0.         0.         0.         0.        ]\n",
            " [0.         0.         0.         0.         0.         0.\n",
            "  0.         0.         0.         0.         0.         0.\n",
            "  0.         0.         0.         0.         0.00392157 0.18431373\n",
            "  0.62745098 0.6745098  0.30980392 0.03137255 0.         0.\n",
            "  0.         0.         0.         0.        ]\n",
            " [0.         0.         0.         0.         0.         0.\n",
            "  0.         0.         0.         0.         0.         0.\n",
            "  0.         0.         0.         0.         0.         0.07058824\n",
            "  0.25490196 0.1254902  0.01176471 0.         0.         0.\n",
            "  0.         0.         0.         0.        ]\n",
            " [0.         0.         0.         0.         0.         0.\n",
            "  0.         0.         0.         0.         0.         0.\n",
            "  0.         0.         0.         0.         0.         0.\n",
            "  0.00392157 0.         0.         0.         0.         0.\n",
            "  0.         0.         0.         0.        ]\n",
            " [0.         0.         0.         0.         0.         0.\n",
            "  0.         0.         0.         0.         0.         0.\n",
            "  0.         0.         0.         0.         0.         0.\n",
            "  0.         0.         0.         0.         0.         0.\n",
            "  0.         0.         0.         0.        ]]\n"
          ],
          "name": "stdout"
        }
      ]
    },
    {
      "metadata": {
        "id": "96h3OrDbvHI7",
        "colab_type": "code",
        "outputId": "e9b373aa-638a-4013-b50a-e233e4298231",
        "colab": {
          "base_uri": "https://localhost:8080/",
          "height": 365
        }
      },
      "cell_type": "code",
      "source": [
        "for t in range(112800):\n",
        "    X_train[t]=np.transpose(X_train[t])\n",
        "    \n",
        "plt.imshow(X_train[0])\n",
        "plt.show\n",
        "\n",
        "for t in range(18800):\n",
        "    X_test[t]=np.transpose(X_test[t])\n",
        "\n",
        "plt.imshow(X_test[1])\n",
        "plt.show\n",
        "\n",
        "print('Rotated and reversed test and train images!')"
      ],
      "execution_count": 0,
      "outputs": [
        {
          "output_type": "stream",
          "text": [
            "Rotated and reversed test and train images!\n"
          ],
          "name": "stdout"
        },
        {
          "output_type": "display_data",
          "data": {
            "image/png": "[encoded data removed]",
            "text/plain": [
              "<Figure size 576x396 with 1 Axes>"
            ]
          },
          "metadata": {
            "tags": []
          }
        }
      ]
    },
    {
      "metadata": {
        "id": "u-v9Yff8vHJA",
        "colab_type": "code",
        "outputId": "0ccaf108-eab7-4275-ab97-48abf1087e23",
        "colab": {
          "base_uri": "https://localhost:8080/",
          "height": 365
        }
      },
      "cell_type": "code",
      "source": [
        "m = X_train[112799]\n",
        "plt.imshow(m)\n",
        "plt.show"
      ],
      "execution_count": 0,
      "outputs": [
        {
          "output_type": "execute_result",
          "data": {
            "text/plain": [
              "<function matplotlib.pyplot.show>"
            ]
          },
          "metadata": {
            "tags": []
          },
          "execution_count": 7
        },
        {
          "output_type": "display_data",
          "data": {
            "image/png": "[encoded data removed]",
            "text/plain": [
              "<Figure size 576x396 with 1 Axes>"
            ]
          },
          "metadata": {
            "tags": []
          }
        }
      ]
    },
    {
      "metadata": {
        "id": "GUPW_gJIvHJN",
        "colab_type": "code",
        "colab": {}
      },
      "cell_type": "code",
      "source": [
        "X_train = X_train.reshape(X_train.shape[0], 784,1)\n",
        "X_test = X_test.reshape(X_test.shape[0], 784,1)"
      ],
      "execution_count": 0,
      "outputs": []
    },
    {
      "metadata": {
        "id": "BxPW1kt3SI7E",
        "colab_type": "code",
        "outputId": "27f8adce-b946-4320-a5e2-cf33230bd88c",
        "colab": {
          "base_uri": "https://localhost:8080/",
          "height": 35
        }
      },
      "cell_type": "code",
      "source": [
        "from keras.models import Sequential\n",
        "from keras import optimizers\n",
        "from keras.layers import Convolution2D, MaxPooling2D, Dropout, Flatten, Dense, Reshape, LSTM\n",
        "from keras import backend as K\n",
        "from keras.constraints import maxnorm\n",
        "def resh(ipar):\n",
        "    opar = []\n",
        "    for image in ipar:\n",
        "        opar.append(image.reshape(-1))\n",
        "    return np.asarray(opar)\n",
        "\n",
        "from keras.utils import np_utils\n",
        "\n",
        "train_images = X_train.astype('float32')\n",
        "test_images = X_test.astype('float32')\n",
        "\n",
        "train_images = resh(train_images)\n",
        "test_images = resh(test_images)\n",
        "\n",
        "\n",
        "train_labels = np_utils.to_categorical(y_train, 62)\n",
        "test_labels = np_utils.to_categorical(y_test, 62)\n"
      ],
      "execution_count": 0,
      "outputs": [
        {
          "output_type": "stream",
          "text": [
            "Using TensorFlow backend.\n"
          ],
          "name": "stderr"
        }
      ]
    },
    {
      "metadata": {
        "id": "TY_fRkl_SKJ4",
        "colab_type": "code",
        "outputId": "3880f2e0-06fb-4a9a-fc20-2e5f417d8114",
        "colab": {
          "base_uri": "https://localhost:8080/",
          "height": 85
        }
      },
      "cell_type": "code",
      "source": [
        "from sklearn.datasets import fetch_mldata\n",
        "from sklearn.decomposition import PCA\n",
        "from sklearn.preprocessing import StandardScaler\n",
        "from sklearn import metrics\n",
        "from sklearn.model_selection import train_test_split\n",
        "import pandas as pd\n",
        "\n",
        "train_img=train_images \n",
        "test_img=test_images\n",
        "train_lbl=train_labels\n",
        "test_lbl=test_labels\n",
        "print(train_img.shape)\n",
        "print(train_lbl.shape)\n",
        "print(test_img.shape)\n",
        "print(test_lbl.shape)\n",
        "\n",
        "from sklearn.preprocessing import StandardScaler\n",
        "scaler = StandardScaler()\n",
        "\n",
        "# Fit on training set only.\n",
        "scaler.fit(train_img)\n",
        "\n",
        "# Apply transform to both the training set and the test set.\n",
        "train_img = scaler.transform(train_img)\n",
        "test_img = scaler.transform(test_img)\n",
        "\n"
      ],
      "execution_count": 0,
      "outputs": [
        {
          "output_type": "stream",
          "text": [
            "(112800, 784)\n",
            "(112800, 62)\n",
            "(18800, 784)\n",
            "(18800, 62)\n"
          ],
          "name": "stdout"
        }
      ]
    },
    {
      "metadata": {
        "id": "ShKxyJdnSvbJ",
        "colab_type": "code",
        "colab": {}
      },
      "cell_type": "code",
      "source": [
        "from sklearn.decomposition import PCA\n",
        "\n",
        "pca = PCA(.95)\n",
        "pca.fit(train_img)\n",
        "pca.n_components_\n",
        "train_img = pca.transform(train_img)\n",
        "test_img = pca.transform(test_img)\n"
      ],
      "execution_count": 0,
      "outputs": []
    },
    {
      "metadata": {
        "id": "I9IACelfvHJX",
        "colab_type": "code",
        "colab": {}
      },
      "cell_type": "code",
      "source": [
        "\n",
        "\n",
        "K.set_learning_phase(1)\n",
        "\n",
        "model = Sequential()\n",
        "\n",
        "model.add(Reshape((28,28,1), input_shape=(784,)))\n",
        "\n",
        "\n",
        "model.add(Convolution2D(64, (5,5), input_shape=(28,28,1),activation='relu',data_format = 'channels_first',padding='same',kernel_constraint=maxnorm(3)))\n",
        "model.add(Convolution2D(64, (5,5),activation='relu'))\n",
        "model.add(MaxPooling2D(pool_size=(2,2)))\n",
        "#model.add(Dropout(0.25))\n",
        "\n",
        "model.add(Convolution2D(128, (5,5),activation='relu'))\n",
        "model.add(Convolution2D(128, (5,5),activation='relu'))\n",
        "model.add(MaxPooling2D(pool_size=(2,2)))\n",
        "#model.add(Dropout(0.25))\n",
        "\n",
        "\n",
        "\n",
        "model.add(Flatten())\n",
        "\n",
        "model.add(Dense(8192, activation='relu', kernel_constraint=maxnorm(3)))\n",
        "model.add(Dense(4096, activation='relu', kernel_constraint=maxnorm(3)))\n",
        "\n",
        "\n",
        "\n",
        "\n",
        "model.add(Dropout(0.5))\n",
        "\n",
        "model.add(Dense(62, activation='softmax'))\n",
        "\n",
        "opt = optimizers.Adam(lr=0.001, beta_1=0.9, beta_2=0.999, epsilon=1e-8)\n",
        "opt = optimizers.Adadelta()\n",
        "opt = optimizers.Adamax(lr=0.002, beta_1=0.9, beta_2=0.999, epsilon=None, decay=0.0)\n",
        "model.compile(loss='categorical_crossentropy', optimizer=opt, metrics=['accuracy'])"
      ],
      "execution_count": 0,
      "outputs": []
    },
    {
      "metadata": {
        "id": "d3LEBjzvvHJn",
        "colab_type": "code",
        "outputId": "cd4b2f46-8ed7-4598-8193-6094d0a8ecb6",
        "colab": {
          "base_uri": "https://localhost:8080/",
          "height": 1378
        }
      },
      "cell_type": "code",
      "source": [
        "print(model.summary())\n",
        "history = model.fit(train_images,train_labels,validation_data=(test_images, test_labels), batch_size=128, epochs=20)"
      ],
      "execution_count": 0,
      "outputs": [
        {
          "output_type": "stream",
          "text": [
            "_________________________________________________________________\n",
            "Layer (type)                 Output Shape              Param #   \n",
            "=================================================================\n",
            "reshape_3 (Reshape)          (None, 28, 28, 1)         0         \n",
            "_________________________________________________________________\n",
            "conv2d_9 (Conv2D)            (None, 64, 28, 1)         44864     \n",
            "_________________________________________________________________\n",
            "conv2d_10 (Conv2D)           (None, 60, 24, 64)        1664      \n",
            "_________________________________________________________________\n",
            "max_pooling2d_5 (MaxPooling2 (None, 30, 12, 64)        0         \n",
            "_________________________________________________________________\n",
            "conv2d_11 (Conv2D)           (None, 26, 8, 128)        204928    \n",
            "_________________________________________________________________\n",
            "conv2d_12 (Conv2D)           (None, 22, 4, 128)        409728    \n",
            "_________________________________________________________________\n",
            "max_pooling2d_6 (MaxPooling2 (None, 11, 2, 128)        0         \n",
            "_________________________________________________________________\n",
            "flatten_3 (Flatten)          (None, 2816)              0         \n",
            "_________________________________________________________________\n",
            "dense_7 (Dense)              (None, 8192)              23076864  \n",
            "_________________________________________________________________\n",
            "dense_8 (Dense)              (None, 4096)              33558528  \n",
            "_________________________________________________________________\n",
            "dropout_5 (Dropout)          (None, 4096)              0         \n",
            "_________________________________________________________________\n",
            "dense_9 (Dense)              (None, 62)                254014    \n",
            "=================================================================\n",
            "Total params: 57,550,590\n",
            "Trainable params: 57,550,590\n",
            "Non-trainable params: 0\n",
            "_________________________________________________________________\n",
            "None\n",
            "Train on 112800 samples, validate on 18800 samples\n",
            "Epoch 1/20\n",
            "112800/112800 [==============================] - 111s 982us/step - loss: 0.4903 - acc: 0.8310 - val_loss: 0.4634 - val_acc: 0.8386\n",
            "Epoch 2/20\n",
            "112800/112800 [==============================] - 114s 1ms/step - loss: 0.4113 - acc: 0.8539 - val_loss: 0.4255 - val_acc: 0.8537\n",
            "Epoch 3/20\n",
            "112800/112800 [==============================] - 288s 3ms/step - loss: 0.3581 - acc: 0.8703 - val_loss: 0.4107 - val_acc: 0.8574\n",
            "Epoch 4/20\n",
            "112800/112800 [==============================] - 288s 3ms/step - loss: 0.3205 - acc: 0.8805 - val_loss: 0.3975 - val_acc: 0.8609\n",
            "Epoch 5/20\n",
            "112800/112800 [==============================] - 288s 3ms/step - loss: 0.2912 - acc: 0.8892 - val_loss: 0.4003 - val_acc: 0.8639\n",
            "Epoch 6/20\n",
            "112800/112800 [==============================] - 286s 3ms/step - loss: 0.2643 - acc: 0.8978 - val_loss: 0.3704 - val_acc: 0.8711\n",
            "Epoch 7/20\n",
            "112800/112800 [==============================] - 286s 3ms/step - loss: 0.2408 - acc: 0.9045 - val_loss: 0.3845 - val_acc: 0.8705\n",
            "Epoch 8/20\n",
            "112800/112800 [==============================] - 286s 3ms/step - loss: 0.2197 - acc: 0.9118 - val_loss: 0.4068 - val_acc: 0.8678\n",
            "Epoch 9/20\n",
            "112800/112800 [==============================] - 286s 3ms/step - loss: 0.1980 - acc: 0.9189 - val_loss: 0.4127 - val_acc: 0.8687\n",
            "Epoch 10/20\n",
            "112800/112800 [==============================] - 287s 3ms/step - loss: 0.1786 - acc: 0.9264 - val_loss: 0.4393 - val_acc: 0.8644\n",
            "Epoch 11/20\n",
            "112800/112800 [==============================] - 287s 3ms/step - loss: 0.1644 - acc: 0.9314 - val_loss: 0.4663 - val_acc: 0.8698\n",
            "Epoch 12/20\n",
            "112800/112800 [==============================] - 286s 3ms/step - loss: 0.1498 - acc: 0.9374 - val_loss: 0.4888 - val_acc: 0.8671\n",
            "Epoch 13/20\n",
            "112800/112800 [==============================] - 287s 3ms/step - loss: 0.1361 - acc: 0.9430 - val_loss: 0.5083 - val_acc: 0.8717\n",
            "Epoch 14/20\n",
            "112800/112800 [==============================] - 288s 3ms/step - loss: 0.1254 - acc: 0.9463 - val_loss: 0.5679 - val_acc: 0.8635\n",
            "Epoch 15/20\n",
            "112800/112800 [==============================] - 286s 3ms/step - loss: 0.1153 - acc: 0.9509 - val_loss: 0.5891 - val_acc: 0.8646\n",
            "Epoch 16/20\n",
            "112800/112800 [==============================] - 287s 3ms/step - loss: 0.1067 - acc: 0.9549 - val_loss: 0.6019 - val_acc: 0.8661\n",
            "Epoch 17/20\n",
            "112800/112800 [==============================] - 287s 3ms/step - loss: 0.0959 - acc: 0.9595 - val_loss: 0.6326 - val_acc: 0.8651\n",
            "Epoch 18/20\n",
            "112800/112800 [==============================] - 162s 1ms/step - loss: 0.0897 - acc: 0.9624 - val_loss: 0.6599 - val_acc: 0.8659\n",
            "Epoch 19/20\n",
            "112800/112800 [==============================] - 110s 978us/step - loss: 0.0846 - acc: 0.9651 - val_loss: 0.7269 - val_acc: 0.8675\n",
            "Epoch 20/20\n",
            "112800/112800 [==============================] - 142s 1ms/step - loss: 0.0781 - acc: 0.9674 - val_loss: 0.7174 - val_acc: 0.8656\n"
          ],
          "name": "stdout"
        }
      ]
    },
    {
      "metadata": {
        "id": "lhCKkkb6vHJq",
        "colab_type": "code",
        "colab": {}
      },
      "cell_type": "code",
      "source": [
        "scores = model.evaluate(train_images,train_labels, verbose = 0)"
      ],
      "execution_count": 0,
      "outputs": []
    },
    {
      "metadata": {
        "id": "k0T33ja084l8",
        "colab_type": "code",
        "outputId": "0f89a4a4-1f7f-4f23-fc75-bad9edc2c242",
        "colab": {
          "base_uri": "https://localhost:8080/",
          "height": 35
        }
      },
      "cell_type": "code",
      "source": [
        "print(\"Accuracy:%.2f%%\"%(scores[1]*100))\n"
      ],
      "execution_count": 0,
      "outputs": [
        {
          "output_type": "stream",
          "text": [
            "Accuracy:97.30%\n"
          ],
          "name": "stdout"
        }
      ]
    },
    {
      "metadata": {
        "id": "PG87K_Y2vHJw",
        "colab_type": "code",
        "outputId": "e9a08a67-803f-4e06-de90-701373fd4b10",
        "colab": {
          "base_uri": "https://localhost:8080/",
          "height": 753
        }
      },
      "cell_type": "code",
      "source": [
        "print(history.history.keys())\n",
        "plt.plot(history.history['acc'])\n",
        "plt.plot(history.history['val_acc'])\n",
        "plt.title('Model Accuracy')\n",
        "plt.ylabel('Accuracy')\n",
        "plt.xlabel('Epoch')\n",
        "plt.legend(['Train', 'Test'], loc='upper left')\n",
        "plt.grid()\n",
        "plt.show()\n",
        "plt.plot(history.history['loss'])\n",
        "plt.plot(history.history['val_loss'])\n",
        "plt.title('Model loss')\n",
        "plt.ylabel('Loss')\n",
        "plt.xlabel('Epoch')\n",
        "plt.legend(['Train', 'Test'], loc='upper left')\n",
        "plt.grid()\n",
        "plt.show()"
      ],
      "execution_count": 0,
      "outputs": [
        {
          "output_type": "stream",
          "text": [
            "dict_keys(['val_loss', 'val_acc', 'loss', 'acc'])\n"
          ],
          "name": "stdout"
        },
        {
          "output_type": "display_data",
          "data": {
            "image/png": "[encoded data removed]",
            "text/plain": [
              "<Figure size 576x396 with 1 Axes>"
            ]
          },
          "metadata": {
            "tags": []
          }
        },
        {
          "output_type": "display_data",
          "data": {
            "image/png": "[encoded data removed]",
            "text/plain": [
              "<Figure size 576x396 with 1 Axes>"
            ]
          },
          "metadata": {
            "tags": []
          }
        }
      ]
    },
    {
      "metadata": {
        "id": "g8Q1hDrZvHJ0",
        "colab_type": "code",
        "outputId": "ded92927-6a6d-4f88-8362-a16f761bbfe6",
        "colab": {
          "base_uri": "https://localhost:8080/",
          "height": 362
        }
      },
      "cell_type": "code",
      "source": [
        "objects = ('RMSDrop', 'Adam', 'Adamax', 'SGD', 'Adadelta')\n",
        "y_pos = np.arange(len(objects))\n",
        "performance = [86.2,85.39,89.53,84.29,87.11]\n",
        " \n",
        "plt.bar(y_pos, performance, align='center', alpha=0.5)\n",
        "plt.xticks(y_pos, objects)\n",
        "plt.ylabel('Accuracy')\n",
        "plt.title('Optimizers')\n",
        "plt.ylim(50,100)\n",
        "plt.show()"
      ],
      "execution_count": 0,
      "outputs": [
        {
          "output_type": "display_data",
          "data": {
            "image/png": "[encoded data removed]",
            "text/plain": [
              "<Figure size 576x396 with 1 Axes>"
            ]
          },
          "metadata": {
            "tags": []
          }
        }
      ]
    },
    {
      "metadata": {
        "id": "m4XsHQMXvHKC",
        "colab_type": "code",
        "outputId": "0a2e75bb-0228-4483-c9a9-5688c379b003",
        "colab": {
          "base_uri": "https://localhost:8080/",
          "height": 365
        }
      },
      "cell_type": "code",
      "source": [
        "m = X_test[258].reshape(28,28)\n",
        "plt.imshow(m)\n",
        "plt.show\n",
        "print('prediction: '+str(model.predict_classes(X_test[258].reshape(1,784))))"
      ],
      "execution_count": 0,
      "outputs": [
        {
          "output_type": "stream",
          "text": [
            "prediction: [17]\n"
          ],
          "name": "stdout"
        },
        {
          "output_type": "display_data",
          "data": {
            "image/png": "[encoded data removed]",
            "text/plain": [
              "<Figure size 576x396 with 1 Axes>"
            ]
          },
          "metadata": {
            "tags": []
          }
        }
      ]
    },
    {
      "metadata": {
        "id": "ihb70jkzvHKJ",
        "colab_type": "code",
        "colab": {}
      },
      "cell_type": "code",
      "source": [
        "from keras.models import load_model\n",
        "from keras.models import model_from_json\n",
        "\n",
        "model_json = model.to_json()\n",
        "with open(\"emnistmodel1.json\", \"w\") as json_file:\n",
        "    json_file.write(model_json)\n",
        "    \n",
        "model.save_weights(\"emnistmodel1.h5\")\n"
      ],
      "execution_count": 0,
      "outputs": []
    },
    {
      "metadata": {
        "id": "c8AQiAmfLxsM",
        "colab_type": "code",
        "outputId": "42afb142-f1bb-476c-9fc8-ec66dfcd66b6",
        "colab": {
          "base_uri": "https://localhost:8080/",
          "height": 35
        }
      },
      "cell_type": "code",
      "source": [
        "import os\n",
        "import shutil\n",
        "\n",
        "shutil.move(\"/content/emnistmodel1.h5\", \"/content/gdrive/My Drive/Colab Notebooks/newemnistmodel124.h5\")\n",
        "shutil.move(\"/content/emnistmodel1.json\", \"/content/gdrive/My Drive/Colab Notebooks/newemnistmodel124.json\")\n"
      ],
      "execution_count": 0,
      "outputs": [
        {
          "output_type": "execute_result",
          "data": {
            "text/plain": [
              "'/content/gdrive/My Drive/Colab Notebooks/newemnistmodel124.json'"
            ]
          },
          "metadata": {
            "tags": []
          },
          "execution_count": 31
        }
      ]
    }
  ]
}